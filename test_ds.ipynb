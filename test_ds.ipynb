{
 "cells": [
  {
   "cell_type": "code",
   "execution_count": 1,
   "metadata": {},
   "outputs": [],
   "source": [
    "from data.dataset import FSSDataset\n",
    "import sys\n",
    "import numpy\n",
    "numpy.set_printoptions(threshold=sys.maxsize)"
   ]
  },
  {
   "cell_type": "code",
   "execution_count": 4,
   "metadata": {},
   "outputs": [
    {
     "name": "stdout",
     "output_type": "stream",
     "text": [
      "Total (trn) images are : 733\n",
      "Total (val) images are : 31\n"
     ]
    }
   ],
   "source": [
    "FSSDataset.initialize(img_size=400, datapath=\"../Datasets_HSN\", use_original_imgsize=False)\n",
    "dataloader_trn = FSSDataset.build_dataloader('custom', 1, 8, 0, 'trn')\n",
    "dataloader_val = FSSDataset.build_dataloader('custom', 1, 8, 0, 'val')"
   ]
  },
  {
   "cell_type": "code",
   "execution_count": 8,
   "metadata": {},
   "outputs": [
    {
     "name": "stdout",
     "output_type": "stream",
     "text": [
      "[2]\n"
     ]
    }
   ],
   "source": [
    "print(dataloader_val.dataset.class_ids)"
   ]
  },
  {
   "cell_type": "code",
   "execution_count": 9,
   "metadata": {},
   "outputs": [
    {
     "name": "stdout",
     "output_type": "stream",
     "text": [
      "[['IMG_0567', 2], ['IMG_0549', 2], ['blast_65', 2], ['IMG_0687', 2], ['BLAST1_018', 2], ['IMG_0566', 2], ['IMG_4841', 2], ['IMG_0559', 2], ['IMG_0678', 2], ['IMG_0607', 2], ['BLAST1_012', 2], ['blast_62', 2], ['IMG_0704', 2], ['IMG_0635', 2], ['blast_61', 2], ['IMG_20190419_112556', 2], ['BLAST1_074', 2]]\n"
     ]
    }
   ],
   "source": [
    "print(dataloader_val.dataset.img_metadata)\n",
    "# [['2007_000648', 5], ['2007_000768', 5], ['2007_001595', 5],...]"
   ]
  },
  {
   "cell_type": "code",
   "execution_count": null,
   "metadata": {},
   "outputs": [],
   "source": [
    "print(dataloader_trn.dataset.img_metadata_classwise)\n",
    "# {0: [], 1: [], 2: [], 3: [], 4: [], 5: ['2007_000648', '2007_000768',...], 6:[...], ...}"
   ]
  },
  {
   "cell_type": "code",
   "execution_count": 10,
   "metadata": {},
   "outputs": [
    {
     "name": "stdout",
     "output_type": "stream",
     "text": [
      "1\n"
     ]
    }
   ],
   "source": [
    "print(dataloader_trn.dataset.shot)"
   ]
  },
  {
   "cell_type": "code",
   "execution_count": 5,
   "metadata": {},
   "outputs": [
    {
     "name": "stdout",
     "output_type": "stream",
     "text": [
      "D D D D D D D        ['DSC_0119']['BACTERIALBLIGHT_056']['DSC_0119']['DSC_0119']['BACTERIALBLIGHT_056']\n",
      "['BACTERIALBLIGHT_056']\n",
      "\n",
      "['BACTERIALBLIGHT_056']\n",
      "\n",
      "\n",
      "\n",
      "D  ['047_trn']\n",
      "QueryQuery  torch.Size([300, 300])torch.Size([300, 300])\n",
      "\n",
      "Query torch.Size([300, 300])\n",
      "Query torch.Size([640, 640])\n",
      "QueryD   torch.Size([640, 640])['DSC_0404']\n",
      "\n",
      "Support torch.Size([300, 300])Query\n",
      " torch.Size([640, 640])\n",
      "Support torch.Size([640, 640])\n",
      "Query D torch.Size([300, 300]) Support\n",
      " ['DSC_0404']Supporttorch.Size([300, 300])\n",
      " \n",
      "torch.Size([640, 640])\n",
      "Support Supporttorch.Size([640, 640]) \n",
      "torch.Size([300, 300])\n",
      "D  ['brownspot_orig_025']\n",
      "D D   ['DSC_0404']['IMG_0553']Query \n",
      "\n",
      "torch.Size([640, 640])D \n",
      "Support  ['DSC_0404']torch.Size([640, 640])\n",
      "\n",
      "D  ['IMG_0553']\n",
      "Query Querytorch.Size([300, 300]) torch.Size([640, 640])\n",
      "\n",
      "Query torch.Size([640, 640])Query\n",
      " torch.Size([300, 300])\n",
      "Support torch.Size([300, 300])\n",
      "Support torch.Size([640, 640])\n",
      "Query Supporttorch.Size([640, 640]) \n",
      "torch.Size([640, 640])\n",
      "Support torch.Size([640, 640])\n",
      "Support torch.Size([640, 640])\n",
      "Support torch.Size([640, 640])\n",
      "Query torch.Size([640, 640])\n",
      "Support torch.Size([2592, 4608, 3])\n",
      "{'query_img': tensor([[[[ 0.5707,  0.5707,  0.5707,  ..., -0.4397, -0.4397, -0.4568],\n",
      "          [ 0.5878,  0.5878,  0.5878,  ..., -0.4397, -0.4397, -0.4568],\n",
      "          [ 0.6049,  0.6049,  0.6049,  ..., -0.4397, -0.4397, -0.4568],\n",
      "          ...,\n",
      "          [ 0.3481,  0.3652,  0.3994,  ...,  0.9132,  0.9132,  0.9303],\n",
      "          [ 0.3994,  0.4166,  0.4337,  ...,  0.9132,  0.9303,  0.9474],\n",
      "          [ 0.4337,  0.4508,  0.4679,  ...,  0.9303,  0.9646,  0.9817]],\n",
      "\n",
      "         [[ 0.7129,  0.7129,  0.7129,  ...,  0.3803,  0.3803,  0.3627],\n",
      "          [ 0.7304,  0.7304,  0.7304,  ...,  0.3803,  0.3803,  0.3627],\n",
      "          [ 0.7479,  0.7479,  0.7479,  ...,  0.3803,  0.3803,  0.3627],\n",
      "          ...,\n",
      "          [ 1.3081,  1.3256,  1.3606,  ...,  1.0980,  1.0980,  1.1155],\n",
      "          [ 1.3606,  1.3782,  1.3957,  ...,  1.0980,  1.1155,  1.1331],\n",
      "          [ 1.3957,  1.4132,  1.4307,  ...,  1.1155,  1.1506,  1.1681]],\n",
      "\n",
      "         [[ 0.9319,  0.9319,  0.9319,  ..., -1.0898, -1.0898, -1.1073],\n",
      "          [ 0.9494,  0.9494,  0.9494,  ..., -1.0898, -1.0898, -1.1073],\n",
      "          [ 0.9668,  0.9668,  0.9668,  ..., -1.0898, -1.0898, -1.1073],\n",
      "          ...,\n",
      "          [-0.1138, -0.0964, -0.0615,  ...,  1.2980,  1.2980,  1.3154],\n",
      "          [-0.0615, -0.0441, -0.0267,  ...,  1.2980,  1.3154,  1.3328],\n",
      "          [-0.0267, -0.0092,  0.0082,  ...,  1.3154,  1.3502,  1.3677]]]]), 'query_mask': tensor([[[0., 0., 0.,  ..., 0., 0., 0.],\n",
      "         [0., 0., 0.,  ..., 0., 0., 0.],\n",
      "         [0., 0., 0.,  ..., 0., 0., 0.],\n",
      "         ...,\n",
      "         [0., 0., 0.,  ..., 0., 0., 0.],\n",
      "         [0., 0., 0.,  ..., 0., 0., 0.],\n",
      "         [0., 0., 0.,  ..., 0., 0., 0.]]]), 'query_name': ['brownspot_orig_077'], 'query_ignore_idx': tensor([[[0., 0., 0.,  ..., 0., 0., 0.],\n",
      "         [0., 0., 0.,  ..., 0., 0., 0.],\n",
      "         [0., 0., 0.,  ..., 0., 0., 0.],\n",
      "         ...,\n",
      "         [0., 0., 0.,  ..., 0., 0., 0.],\n",
      "         [0., 0., 0.,  ..., 0., 0., 0.],\n",
      "         [0., 0., 0.,  ..., 0., 0., 0.]]]), 'org_query_imsize': [tensor([300]), tensor([300])], 'support_imgs': tensor([[[[[ 2.2489,  2.2489,  2.2489,  ...,  0.8447,  0.8961,  0.9132],\n",
      "           [ 2.2489,  2.2489,  2.2489,  ...,  0.8276,  0.8618,  0.8789],\n",
      "           [ 2.2489,  2.2489,  2.2489,  ...,  0.7933,  0.8447,  0.8618],\n",
      "           ...,\n",
      "           [ 0.7591,  0.7591,  0.7591,  ...,  0.7591,  0.7591,  0.7591],\n",
      "           [ 0.7591,  0.7591,  0.7591,  ...,  0.7591,  0.7591,  0.7591],\n",
      "           [ 0.7591,  0.7591,  0.7591,  ...,  0.7591,  0.7591,  0.7591]],\n",
      "\n",
      "          [[ 2.4286,  2.4286,  2.4286,  ...,  0.7129,  0.6779,  0.6429],\n",
      "           [ 2.4286,  2.4286,  2.4286,  ...,  0.7129,  0.6604,  0.6078],\n",
      "           [ 2.4286,  2.4286,  2.4286,  ...,  0.6954,  0.6429,  0.5903],\n",
      "           ...,\n",
      "           [ 0.9055,  0.9055,  0.9055,  ...,  0.9055,  0.9055,  0.9055],\n",
      "           [ 0.9055,  0.9055,  0.9055,  ...,  0.9055,  0.9055,  0.9055],\n",
      "           [ 0.9055,  0.9055,  0.9055,  ...,  0.9055,  0.9055,  0.9055]],\n",
      "\n",
      "          [[ 2.6400,  2.6400,  2.6400,  ...,  0.0256, -0.1312, -0.2010],\n",
      "           [ 2.6400,  2.6400,  2.6400,  ..., -0.0267, -0.1835, -0.2532],\n",
      "           [ 2.6400,  2.6400,  2.6400,  ..., -0.0615, -0.2532, -0.3230],\n",
      "           ...,\n",
      "           [ 1.1237,  1.1237,  1.1237,  ...,  1.1237,  1.1237,  1.1237],\n",
      "           [ 1.1237,  1.1237,  1.1237,  ...,  1.1237,  1.1237,  1.1237],\n",
      "           [ 1.1237,  1.1237,  1.1237,  ...,  1.1237,  1.1237,  1.1237]]]]]), 'support_masks': tensor([[[[0., 0., 0.,  ..., 0., 0., 0.],\n",
      "          [0., 0., 0.,  ..., 0., 0., 0.],\n",
      "          [0., 0., 0.,  ..., 0., 0., 0.],\n",
      "          ...,\n",
      "          [0., 0., 0.,  ..., 0., 0., 0.],\n",
      "          [0., 0., 0.,  ..., 0., 0., 0.],\n",
      "          [0., 0., 0.,  ..., 0., 0., 0.]]]]), 'support_names': [('DSC_0119',)], 'support_ignore_idxs': tensor([[[[0., 0., 0.,  ..., 0., 0., 0.],\n",
      "          [0., 0., 0.,  ..., 0., 0., 0.],\n",
      "          [0., 0., 0.,  ..., 0., 0., 0.],\n",
      "          ...,\n",
      "          [0., 0., 0.,  ..., 0., 0., 0.],\n",
      "          [0., 0., 0.,  ..., 0., 0., 0.],\n",
      "          [0., 0., 0.,  ..., 0., 0., 0.]]]]), 'class_id': tensor([1])}\n"
     ]
    }
   ],
   "source": [
    "print(next(iter(dataloader_trn)))"
   ]
  },
  {
   "cell_type": "code",
   "execution_count": null,
   "metadata": {},
   "outputs": [],
   "source": [
    "print(dataloader_trn.dataset.)"
   ]
  }
 ],
 "metadata": {
  "kernelspec": {
   "display_name": "Python 3.7.13 ('hsnet')",
   "language": "python",
   "name": "python3"
  },
  "language_info": {
   "codemirror_mode": {
    "name": "ipython",
    "version": 3
   },
   "file_extension": ".py",
   "mimetype": "text/x-python",
   "name": "python",
   "nbconvert_exporter": "python",
   "pygments_lexer": "ipython3",
   "version": "3.7.13"
  },
  "orig_nbformat": 4,
  "vscode": {
   "interpreter": {
    "hash": "4c1424dcb8b3f15c6f48b387ce74e7e92c3fadd876e1e73b4d566108fafbdb00"
   }
  }
 },
 "nbformat": 4,
 "nbformat_minor": 2
}
